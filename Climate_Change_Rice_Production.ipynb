{
 "cells": [
  {
   "cell_type": "code",
   "execution_count": null,
   "id": "6ea3a05d",
   "metadata": {},
   "outputs": [],
   "source": [
    "import pandas as pd\n",
    "import seaborn as sns\n",
    "import matplotlib.pyplot as plt"
   ]
  },
  {
   "cell_type": "code",
   "execution_count": null,
   "id": "6689aa3f",
   "metadata": {},
   "outputs": [],
   "source": [
    "from pandas import json_normalize\n",
    "import requests\n",
    "\n",
    "json_Url = 'https://kosis.kr/openapi/Param/statisticsParameterData.do?method=getList&apiKey=YmRmZGE4NzJkOGE5YzE0Y2M3OGFmZjFiNjcxMjdkYzA=&itmId=T03+T06+T09+T12+T15+T18+T21+T24+&objL1=ALL&objL2=&objL3=&objL4=&objL5=&objL6=&objL7=&objL8=&format=json&jsonVD=Y&prdSe=Y&startPrdDe=2010&endPrdDe=2024&orgId=101&tblId=DT_1ET0221'\n"
   ]
  },
  {
   "cell_type": "code",
   "execution_count": null,
   "id": "a1897fb3",
   "metadata": {},
   "outputs": [],
   "source": [
    "# 데이터 요청 정상여부 확인 <Response [200]> 결과값 = '요청 성공'\n",
    "test = requests.get(json_Url)\n",
    "test\n",
    "# JSON데이터 가져오기\n",
    "test_data = test.json()\n",
    "test_data\n",
    "# pandas 활용 데이터 형태 변환\n",
    "df_rice = pd.json_normalize(test_data)\n",
    "df_rice"
   ]
  },
  {
   "cell_type": "code",
   "execution_count": null,
   "id": "96cbbdc3",
   "metadata": {},
   "outputs": [],
   "source": [
    "json_Url_land = 'https://kosis.kr/openapi/Param/statisticsParameterData.do?method=getList&apiKey=YmRmZGE4NzJkOGE5YzE0Y2M3OGFmZjFiNjcxMjdkYzA=&itmId=T03+T06+T09+T12+T15+T21+T24+T27+T30+T33+T36+T39+T42+T45+T48+T51+T54+T57+T60+T63+T82+T66+T69+T72+T75+T78+T86+T81+&objL1=ALL&objL2=ALL&objL3=&objL4=&objL5=&objL6=&objL7=&objL8=&format=json&jsonVD=Y&prdSe=Y&startPrdDe=2010&endPrdDe=2024&orgId=101&tblId=DT_1ET0012'\n",
    "# 데이터 요청 정상여부 확인 <Response [200]> 결과값 = '요청 성공'\n",
    "test_land = requests.get(json_Url_land)\n",
    "test_land\n",
    "# JSON데이터 가져오기\n",
    "test_data_land = test_land.json()\n",
    "test_data_land\n",
    "# pandas 활용 데이터 형태 변환\n",
    "df_land = pd.json_normalize(test_data_land)\n",
    "df_land"
   ]
  }
 ],
 "metadata": {
  "kernelspec": {
   "display_name": "Python 3",
   "language": "python",
   "name": "python3"
  },
  "language_info": {
   "codemirror_mode": {
    "name": "ipython",
    "version": 3
   },
   "file_extension": ".py",
   "mimetype": "text/x-python",
   "name": "python",
   "nbconvert_exporter": "python",
   "pygments_lexer": "ipython3",
   "version": "3.12.1"
  }
 },
 "nbformat": 4,
 "nbformat_minor": 5
}
